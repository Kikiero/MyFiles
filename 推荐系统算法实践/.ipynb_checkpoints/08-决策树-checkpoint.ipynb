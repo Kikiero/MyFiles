{
 "cells": [
  {
   "cell_type": "raw",
   "metadata": {},
   "source": [
    "第8章\t决策树\n",
    "8.1\t决策树算法\n",
    "8.1.1\t决策树模型\n",
    "8.1.2\t特征选择\n",
    "8.1.3\t决策树的生成\n",
    "8.1.4\t决策树的生成实例\n",
    "8.1.5\t决策树的剪枝\n",
    "8.2\t决策树的集成算法\n",
    "8.2.1\t集成分类器\n",
    "8.2.2\t随机森林\n",
    "8.2.3\tGBDT\n",
    "8.3\t决策树集成算法实例\n",
    "8.3.1\tSpark实现\n",
    "8.3.2\tSklearn实现\n",
    "8.3.3\t效果总结"
   ]
  },
  {
   "cell_type": "code",
   "execution_count": null,
   "metadata": {},
   "outputs": [],
   "source": []
  }
 ],
 "metadata": {
  "kernelspec": {
   "display_name": "Python 3",
   "language": "python",
   "name": "python3"
  },
  "language_info": {
   "codemirror_mode": {
    "name": "ipython",
    "version": 3
   },
   "file_extension": ".py",
   "mimetype": "text/x-python",
   "name": "python",
   "nbconvert_exporter": "python",
   "pygments_lexer": "ipython3",
   "version": "3.8.5"
  }
 },
 "nbformat": 4,
 "nbformat_minor": 4
}
