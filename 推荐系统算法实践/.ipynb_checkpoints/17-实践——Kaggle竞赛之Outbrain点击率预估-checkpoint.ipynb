{
 "cells": [
  {
   "cell_type": "raw",
   "metadata": {},
   "source": [
    "第17章\t实践——Kaggle竞赛之Outbrain点击率预估\n",
    "17.1\t背景介绍\n",
    "17.2\t数据准备\n",
    "17.3\t特征处理\n",
    "17.4\t模型选择\n",
    "17.4.1\tFFM\n",
    "17.4.2\tXGBoost\n",
    "17.4.3\t集成学习\n",
    "17.5\t算法开发"
   ]
  },
  {
   "cell_type": "code",
   "execution_count": null,
   "metadata": {},
   "outputs": [],
   "source": []
  }
 ],
 "metadata": {
  "kernelspec": {
   "display_name": "Python 3",
   "language": "python",
   "name": "python3"
  },
  "language_info": {
   "codemirror_mode": {
    "name": "ipython",
    "version": 3
   },
   "file_extension": ".py",
   "mimetype": "text/x-python",
   "name": "python",
   "nbconvert_exporter": "python",
   "pygments_lexer": "ipython3",
   "version": "3.8.5"
  }
 },
 "nbformat": 4,
 "nbformat_minor": 4
}
