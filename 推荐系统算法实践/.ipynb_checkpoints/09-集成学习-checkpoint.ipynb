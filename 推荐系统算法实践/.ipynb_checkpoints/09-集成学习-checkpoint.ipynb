{
 "cells": [
  {
   "cell_type": "raw",
   "metadata": {},
   "source": [
    "第9章\t集成学习\n",
    "9.1\tGBDT+LR算法\n",
    "9.1.1\t背景\n",
    "9.1.2\tGBDT+LR网络结构\n",
    "9.2\t深度森林算法\n",
    "9.2.1\t深度森林介绍\n",
    "9.2.2\t级联森林\n",
    "9.2.3\t多粒度扫描\n",
    "9.3\t决策树集成分类器\n",
    "9.4\t集成学习实例\n",
    "9.4.1\tGBDT+LR实现\n",
    "9.4.2\t深度森林实现\n",
    "9.4.3\t效果总结"
   ]
  },
  {
   "cell_type": "code",
   "execution_count": null,
   "metadata": {},
   "outputs": [],
   "source": []
  }
 ],
 "metadata": {
  "kernelspec": {
   "display_name": "Python 3",
   "language": "python",
   "name": "python3"
  },
  "language_info": {
   "codemirror_mode": {
    "name": "ipython",
    "version": 3
   },
   "file_extension": ".py",
   "mimetype": "text/x-python",
   "name": "python",
   "nbconvert_exporter": "python",
   "pygments_lexer": "ipython3",
   "version": "3.8.5"
  }
 },
 "nbformat": 4,
 "nbformat_minor": 4
}
