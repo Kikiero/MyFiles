{
 "cells": [
  {
   "cell_type": "raw",
   "metadata": {},
   "source": [
    "第6章\t逻辑回归\n",
    "6.1\t逻辑回归算法\n",
    "6.1.1\t二元逻辑回归模型\n",
    "6.1.2\t模型参数估计\n",
    "6.1.3\t多元逻辑回归模型（Softmax回归）\n",
    "6.1.4\t逻辑回归的网络结构\n",
    "6.1.5\t梯度下降算法\n",
    "6.1.6\t正则化\n",
    "6.2\t逻辑回归实现\n",
    "6.2.1\tSklearn实现\n",
    "6.2.2\tSpark实现\n",
    "6.2.3\tTensorFlow实现\n",
    "6.2.4\t效果总结"
   ]
  },
  {
   "cell_type": "code",
   "execution_count": null,
   "metadata": {},
   "outputs": [],
   "source": []
  }
 ],
 "metadata": {
  "kernelspec": {
   "display_name": "Python 3",
   "language": "python",
   "name": "python3"
  },
  "language_info": {
   "codemirror_mode": {
    "name": "ipython",
    "version": 3
   },
   "file_extension": ".py",
   "mimetype": "text/x-python",
   "name": "python",
   "nbconvert_exporter": "python",
   "pygments_lexer": "ipython3",
   "version": "3.8.5"
  }
 },
 "nbformat": 4,
 "nbformat_minor": 4
}
