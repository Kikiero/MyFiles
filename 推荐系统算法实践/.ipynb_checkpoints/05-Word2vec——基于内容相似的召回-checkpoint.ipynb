{
 "cells": [
  {
   "cell_type": "raw",
   "metadata": {},
   "source": [
    "第5章\tWord2vec——基于内容相似的召回\n",
    "5.1\tWord2vec算法\n",
    "5.1.1\t语言模型\n",
    "5.1.2\tCBOWOne-WordContext模型\n",
    "5.1.3\tCBOWMulti-WordContext模型\n",
    "5.1.4\tSkip-Gram模型\n",
    "5.1.5\tHierarchicalSoftmax\n",
    "5.1.6\tNegativeSampling\n",
    "5.2\tWord2vec实例\n",
    "5.2.1\tSpark实现\n",
    "5.2.2\tTensorFlow实现"
   ]
  },
  {
   "cell_type": "code",
   "execution_count": null,
   "metadata": {},
   "outputs": [],
   "source": []
  }
 ],
 "metadata": {
  "kernelspec": {
   "display_name": "Python 3",
   "language": "python",
   "name": "python3"
  },
  "language_info": {
   "codemirror_mode": {
    "name": "ipython",
    "version": 3
   },
   "file_extension": ".py",
   "mimetype": "text/x-python",
   "name": "python",
   "nbconvert_exporter": "python",
   "pygments_lexer": "ipython3",
   "version": "3.8.5"
  }
 },
 "nbformat": 4,
 "nbformat_minor": 4
}
