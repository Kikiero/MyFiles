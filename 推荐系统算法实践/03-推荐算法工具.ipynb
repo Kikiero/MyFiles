{
 "cells": [
  {
   "cell_type": "raw",
   "metadata": {},
   "source": [
    "第3章\t推荐算法工具\n",
    "3.1\tPythonSklearn机器学习库\n",
    "3.1.1\tSklearn介绍\n",
    "3.1.2\tSklearn建模流程\n",
    "3.2\tSparkMLlib机器学习库\n",
    "3.2.1\tMLlib介绍\n",
    "3.2.2\tMLlib建模流程\n",
    "3.3\tTensorFlow\n",
    "3.3.1\tTensorFlow介绍\n",
    "3.3.2\tTensorFlow建模流程\n",
    "3.4\tNotebook介绍\n",
    "3.4.1\tZeppelinNotebook介绍\n",
    "3.4.2\tJupyterNotebook介绍"
   ]
  },
  {
   "cell_type": "markdown",
   "metadata": {},
   "source": [
    "## 3.1\tPythonSklearn机器学习库"
   ]
  },
  {
   "cell_type": "markdown",
   "metadata": {},
   "source": [
    "### 3.1.1\tSklearn介绍"
   ]
  },
  {
   "cell_type": "raw",
   "metadata": {},
   "source": [
    "Scikit-Learn也被称为Sklearn，是Python的机器学习库。\n",
    "主要有4类：\n",
    "分类、回归、聚类、降维。"
   ]
  },
  {
   "cell_type": "markdown",
   "metadata": {},
   "source": [
    "## 3.2\tSparkMLlib机器学习库"
   ]
  },
  {
   "cell_type": "raw",
   "metadata": {},
   "source": [
    "MLlib是Spark的机器学习库。"
   ]
  },
  {
   "cell_type": "markdown",
   "metadata": {},
   "source": [
    "## 3.3 TensorFlow"
   ]
  },
  {
   "cell_type": "raw",
   "metadata": {},
   "source": [
    "TensorFlow是开源机器学习框架。\n",
    "是一个采用数据流图，用于数值计算的开源软件库。\n",
    "数据流图使用Node和Edge的有向图来描述数学计算。\n",
    "Node一般用来表示对数据的操作，也可以表示数据的输入和输出，或者是读取/写入持久变量。\n",
    "Edge表示节点之间的输入输出关系。\n",
    "\n",
    "这些Edge可以传输可动态调整大小的多维数据数组，即Tensor。"
   ]
  },
  {
   "cell_type": "markdown",
   "metadata": {},
   "source": [
    "## 3.4\tNotebook介绍"
   ]
  },
  {
   "cell_type": "raw",
   "metadata": {},
   "source": [
    "Zeppelin：\n",
    "Web笔记形式的交互式数据查询分析工具。支持接数据源，拖拽出报表。"
   ]
  },
  {
   "cell_type": "raw",
   "metadata": {},
   "source": [
    "Jupyter：\n",
    "基于Web的交互式笔记。"
   ]
  },
  {
   "cell_type": "markdown",
   "metadata": {},
   "source": [
    "# End！"
   ]
  }
 ],
 "metadata": {
  "kernelspec": {
   "display_name": "Python 3",
   "language": "python",
   "name": "python3"
  },
  "language_info": {
   "codemirror_mode": {
    "name": "ipython",
    "version": 3
   },
   "file_extension": ".py",
   "mimetype": "text/x-python",
   "name": "python",
   "nbconvert_exporter": "python",
   "pygments_lexer": "ipython3",
   "version": "3.8.5"
  }
 },
 "nbformat": 4,
 "nbformat_minor": 4
}
