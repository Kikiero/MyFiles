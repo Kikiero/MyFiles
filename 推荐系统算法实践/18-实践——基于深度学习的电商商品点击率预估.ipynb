{
 "cells": [
  {
   "cell_type": "raw",
   "metadata": {},
   "source": [
    "第18章\t实践——基于深度学习的电商商品点击率预估\n",
    "18.1\t背景介绍\n",
    "18.2\t数据准备\n",
    "18.3\t特征处理\n",
    "18.4\t模型选择\n",
    "18.5\t算法开发\n",
    "18.6\t运行结果"
   ]
  },
  {
   "cell_type": "code",
   "execution_count": null,
   "metadata": {},
   "outputs": [],
   "source": []
  }
 ],
 "metadata": {
  "kernelspec": {
   "display_name": "Python 3",
   "language": "python",
   "name": "python3"
  },
  "language_info": {
   "codemirror_mode": {
    "name": "ipython",
    "version": 3
   },
   "file_extension": ".py",
   "mimetype": "text/x-python",
   "name": "python",
   "nbconvert_exporter": "python",
   "pygments_lexer": "ipython3",
   "version": "3.8.5"
  }
 },
 "nbformat": 4,
 "nbformat_minor": 4
}
