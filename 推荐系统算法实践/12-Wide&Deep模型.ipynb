{
 "cells": [
  {
   "cell_type": "raw",
   "metadata": {},
   "source": [
    "第12章\tWide&Deep模型\n",
    "12.1\tWide&Deep模型概述\n",
    "12.1.1\tWide模型\n",
    "12.1.2\tDeep模型\n",
    "12.1.3\t模型联合训练\n",
    "12.2\tWide&Deep系统实现\n",
    "12.2.1\t推荐系统介绍\n",
    "12.2.2\t系统流程\n",
    "12.2.3\t训练数据的生成\n",
    "12.2.4\t模型训练\n",
    "12.2.5\t线上应用\n",
    "12.3\tWide&Deep实例\n",
    "12.4\t运行结果"
   ]
  },
  {
   "cell_type": "code",
   "execution_count": null,
   "metadata": {},
   "outputs": [],
   "source": []
  }
 ],
 "metadata": {
  "kernelspec": {
   "display_name": "Python 3",
   "language": "python",
   "name": "python3"
  },
  "language_info": {
   "codemirror_mode": {
    "name": "ipython",
    "version": 3
   },
   "file_extension": ".py",
   "mimetype": "text/x-python",
   "name": "python",
   "nbconvert_exporter": "python",
   "pygments_lexer": "ipython3",
   "version": "3.8.5"
  }
 },
 "nbformat": 4,
 "nbformat_minor": 4
}
