{
 "cells": [
  {
   "cell_type": "raw",
   "metadata": {},
   "source": [
    "第10章\t深度学习在推荐算法中的应用\n",
    "10.1\t推荐模型的特点\n",
    "10.2\t基于深度学习的推荐模型\n",
    "10.2.1\tDNN优化高阶特征\n",
    "10.2.2\t高阶特征交叉与低阶特征交叉\n",
    "10.2.3\t特征交叉优化\n",
    "10.2.4\t特征连接优化\n",
    "10.2.5\t高阶特征交叉优化\n",
    "10.2.6\t多样性的深度兴趣特征优化"
   ]
  },
  {
   "cell_type": "code",
   "execution_count": null,
   "metadata": {},
   "outputs": [],
   "source": []
  }
 ],
 "metadata": {
  "kernelspec": {
   "display_name": "Python 3",
   "language": "python",
   "name": "python3"
  },
  "language_info": {
   "codemirror_mode": {
    "name": "ipython",
    "version": 3
   },
   "file_extension": ".py",
   "mimetype": "text/x-python",
   "name": "python",
   "nbconvert_exporter": "python",
   "pygments_lexer": "ipython3",
   "version": "3.8.5"
  }
 },
 "nbformat": 4,
 "nbformat_minor": 4
}
