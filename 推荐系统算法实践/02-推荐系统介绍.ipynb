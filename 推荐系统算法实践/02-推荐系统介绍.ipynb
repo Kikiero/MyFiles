{
 "cells": [
  {
   "cell_type": "raw",
   "metadata": {},
   "source": [
    "第2章\t推荐系统介绍\n",
    "2.1\t推荐系统背景\n",
    "2.2\t推荐系统的典型案例\n",
    "2.2.1\tAmazon推荐\n",
    "2.2.2\tFacebook推荐\n",
    "2.2.3\tYouTube推荐\n",
    "2.3\t推荐系统原理"
   ]
  },
  {
   "cell_type": "markdown",
   "metadata": {},
   "source": [
    "## 2.3\t推荐系统原理"
   ]
  },
  {
   "cell_type": "raw",
   "metadata": {},
   "source": [
    "推荐引擎中包含3个重要模块：\n",
    "1、召回模块\n",
    "2、排序模块\n",
    "3、后排模型"
   ]
  },
  {
   "cell_type": "raw",
   "metadata": {},
   "source": [
    "召回常用算法：\n",
    "内容相似性：\n",
    "Word2Vec\n",
    "LDA\n",
    "FastText\n",
    "LSF-SCNN\n",
    "LSTM\n",
    "\n",
    "行为相似：\n",
    "ItemCF\n",
    "UserCF\n",
    "关联规则\n",
    "\n",
    "深度学习：\n",
    "DNN"
   ]
  },
  {
   "cell_type": "raw",
   "metadata": {},
   "source": [
    "排序模型：\n",
    "线性模型：\n",
    "LR、FM、特征交叉+LR/FM\n",
    "\n",
    "树模型：\n",
    "决策树、随机森林、GBDT、XGboost、GBDT+LR\n",
    "\n",
    "集成学习：\n",
    "树类型集成学习\n",
    "GCForest\n",
    "\n",
    "非线性模型：\n",
    "DNN、wide&deep、FNN、DeepFM、NFM、AFM、DCN、DIN"
   ]
  },
  {
   "cell_type": "markdown",
   "metadata": {},
   "source": [
    "# End!"
   ]
  }
 ],
 "metadata": {
  "kernelspec": {
   "display_name": "Python 3",
   "language": "python",
   "name": "python3"
  },
  "language_info": {
   "codemirror_mode": {
    "name": "ipython",
    "version": 3
   },
   "file_extension": ".py",
   "mimetype": "text/x-python",
   "name": "python",
   "nbconvert_exporter": "python",
   "pygments_lexer": "ipython3",
   "version": "3.8.5"
  }
 },
 "nbformat": 4,
 "nbformat_minor": 4
}
