{
 "cells": [
  {
   "cell_type": "raw",
   "metadata": {},
   "source": [
    "第19章\tNotebook实践\n",
    "19.1\tSklearn中的LR实践\n",
    "19.2\tTensorFlow中的LR实践\n",
    "19.3\tSpark中的LR实践\n",
    "19.4\tTensorFlow中的FM调试实践\n",
    "19.5\tSpark中的协同过滤调试实践"
   ]
  },
  {
   "cell_type": "code",
   "execution_count": null,
   "metadata": {},
   "outputs": [],
   "source": []
  }
 ],
 "metadata": {
  "kernelspec": {
   "display_name": "Python 3",
   "language": "python",
   "name": "python3"
  },
  "language_info": {
   "codemirror_mode": {
    "name": "ipython",
    "version": 3
   },
   "file_extension": ".py",
   "mimetype": "text/x-python",
   "name": "python",
   "nbconvert_exporter": "python",
   "pygments_lexer": "ipython3",
   "version": "3.8.5"
  }
 },
 "nbformat": 4,
 "nbformat_minor": 4
}
