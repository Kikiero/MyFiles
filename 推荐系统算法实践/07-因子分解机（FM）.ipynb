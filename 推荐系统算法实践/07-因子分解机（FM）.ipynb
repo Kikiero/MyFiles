{
 "cells": [
  {
   "cell_type": "raw",
   "metadata": {},
   "source": [
    "第7章\t因子分解机（FM）\n",
    "7.1\tFM算法\n",
    "7.1.1\tFM模型\n",
    "7.1.2\tFFM模型\n",
    "7.1.3\tFM模型的网络结构\n",
    "7.2\tFM实现\n",
    "7.2.1\tSklearn实现\n",
    "7.2.2\tTensorFlow实现\n",
    "7.2.3\t效果总结"
   ]
  },
  {
   "cell_type": "code",
   "execution_count": null,
   "metadata": {},
   "outputs": [],
   "source": []
  }
 ],
 "metadata": {
  "kernelspec": {
   "display_name": "Python 3",
   "language": "python",
   "name": "python3"
  },
  "language_info": {
   "codemirror_mode": {
    "name": "ipython",
    "version": 3
   },
   "file_extension": ".py",
   "mimetype": "text/x-python",
   "name": "python",
   "nbconvert_exporter": "python",
   "pygments_lexer": "ipython3",
   "version": "3.8.5"
  }
 },
 "nbformat": 4,
 "nbformat_minor": 4
}
