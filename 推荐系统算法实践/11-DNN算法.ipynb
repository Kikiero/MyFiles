{
 "cells": [
  {
   "cell_type": "raw",
   "metadata": {},
   "source": [
    "第11章\tDNN算法\n",
    "11.1\t人工神经网络算法\n",
    "11.1.1\t神经元\n",
    "11.1.2\t神经网络模型\n",
    "11.1.3\t信号的前向传播\n",
    "11.1.4\t误差的反向传播\n",
    "11.2\tDNN优化方法\n",
    "11.2.1\t优化参数\n",
    "11.2.2\tAttention机制\n",
    "11.3\tDNN实例\n",
    "11.4\t运行结果"
   ]
  },
  {
   "cell_type": "code",
   "execution_count": null,
   "metadata": {},
   "outputs": [],
   "source": []
  }
 ],
 "metadata": {
  "kernelspec": {
   "display_name": "Python 3",
   "language": "python",
   "name": "python3"
  },
  "language_info": {
   "codemirror_mode": {
    "name": "ipython",
    "version": 3
   },
   "file_extension": ".py",
   "mimetype": "text/x-python",
   "name": "python",
   "nbconvert_exporter": "python",
   "pygments_lexer": "ipython3",
   "version": "3.8.5"
  }
 },
 "nbformat": 4,
 "nbformat_minor": 4
}
