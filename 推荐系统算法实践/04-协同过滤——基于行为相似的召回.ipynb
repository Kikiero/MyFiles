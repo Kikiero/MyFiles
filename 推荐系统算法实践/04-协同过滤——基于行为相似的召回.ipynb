{
 "cells": [
  {
   "cell_type": "raw",
   "metadata": {},
   "source": [
    "第4章\t协同过滤——基于行为相似的召回\n",
    "4.1\t协同过滤算法\n",
    "4.1.1\t协同过滤推荐概述\n",
    "4.1.2\t用户评分\n",
    "4.1.3\t相似度计算\n",
    "4.1.4\t推荐计算\n",
    "4.2\t协同过滤推荐算法实现\n",
    "4.2.1\t相似度计算及推荐计算\n",
    "4.2.2\t协同推荐\n",
    "4.2.3\t运行结果"
   ]
  },
  {
   "cell_type": "raw",
   "metadata": {},
   "source": [
    "行为相似召回：\n",
    "通过用户的某一行为，得到该行为指向物品所对应的相似物品，最终得到推荐结果。\n",
    "常用的算法是协调过滤算法。\n",
    "比如：用户点击了某个物品，该算法识别该物品的相似物品返回。"
   ]
  },
  {
   "cell_type": "raw",
   "metadata": {},
   "source": [
    "相似用户召回：\n",
    "通过用户画像和用户行为，计算相似用户，根据最近邻算法来得到推荐结果。"
   ]
  },
  {
   "cell_type": "raw",
   "metadata": {},
   "source": [
    "内容相似召回：\n",
    "通过对物品内容的理解与分析，得到物品之间的相似度，然后根据用户对该物品的行为，得到相似物品的推荐结果。\n",
    "常用的方法是word2vec算法。"
   ]
  },
  {
   "cell_type": "markdown",
   "metadata": {},
   "source": [
    "## 4.1\t协同过滤算法"
   ]
  },
  {
   "cell_type": "markdown",
   "metadata": {},
   "source": [
    "## Step1:计算相似度\n",
    "通过经验数据，我们可以根据用户的行为数据得到用户对物品的经验数据（协同相似性矩阵）。"
   ]
  },
  {
   "cell_type": "markdown",
   "metadata": {},
   "source": [
    "### 用户行为偏好矩阵"
   ]
  },
  {
   "cell_type": "raw",
   "metadata": {},
   "source": [
    "组合用户不同的行为：\n",
    "1、行为分组，一般可以分为查看和购买。\n",
    "2、对不同的行为进行甲醛是。\n",
    "3、数据预处理：\n",
    "减噪、归一化。\n",
    "归一化：用户查看要比购买的物品多，通过归一化，数据才能更加准确。"
   ]
  },
  {
   "cell_type": "markdown",
   "metadata": {},
   "source": [
    "### 利用行为偏好矩阵计算距离"
   ]
  },
  {
   "cell_type": "raw",
   "metadata": {},
   "source": [
    "得到用户偏好矩阵之后，可以根据用户的偏好计算相似用户或者相似物品。\n",
    "然后基于相似推荐。"
   ]
  },
  {
   "cell_type": "markdown",
   "metadata": {},
   "source": [
    "### 计算距离的方法"
   ]
  },
  {
   "cell_type": "raw",
   "metadata": {},
   "source": [
    "相似度的计算，基本上都是基于向量的。"
   ]
  },
  {
   "cell_type": "raw",
   "metadata": {},
   "source": [
    "在推荐场景中，在用户-物品偏好的二维矩阵中，我们可以将一个用户对所有物品的偏好作为一个向量来计算用户之间的相似度。\n",
    "将所有用户对某个物品的偏好作为一个向量来计算物品之间的相似度。"
   ]
  },
  {
   "cell_type": "raw",
   "metadata": {},
   "source": [
    "1、同现相似度\n",
    "分子：喜欢物品A也喜欢物品B的用户\n",
    "分母：喜欢物品A的用户\n",
    "w=（A交B）/A\n",
    "表示为：喜欢物品A的用户中有多少也喜欢B。\n",
    "\n",
    "如果B是热门商品，喜欢B的用户特别多，那么比值接近于1，造成任何热门物品与与计算物品都有很大的相似度。\n",
    "所以：\n",
    "分母增加B的数量，惩罚B。\n",
    "w=（A交B）/（A*B）"
   ]
  },
  {
   "cell_type": "raw",
   "metadata": {},
   "source": [
    "2、欧几里得距离\n",
    "欧式距离：d\n",
    "相似度:S=1/(1+d)"
   ]
  },
  {
   "cell_type": "raw",
   "metadata": {},
   "source": [
    "3、皮尔逊相关系数\n",
    "两个变量之间的皮尔逊相关系数定义为两个变量之间的协方差和标准差的商。"
   ]
  },
  {
   "cell_type": "code",
   "execution_count": 2,
   "metadata": {},
   "outputs": [
    {
     "data": {
      "text/html": [
       "<img src='./src/0401.svg' />\n"
      ],
      "text/plain": [
       "<IPython.core.display.HTML object>"
      ]
     },
     "metadata": {},
     "output_type": "display_data"
    }
   ],
   "source": [
    "%%html\n",
    "<img src='./src/0401.svg' />"
   ]
  },
  {
   "cell_type": "raw",
   "metadata": {},
   "source": [
    "4、Cosine相似度\n",
    "5、Jaccard系数：也是Cosine相似度的扩展。"
   ]
  },
  {
   "cell_type": "markdown",
   "metadata": {},
   "source": [
    "## Step2:利用协同过滤算法推荐\n",
    "协同过滤推荐，通过分析用户的兴趣在用户群众找到用户的相似用户，综合这些相似用户对某一信息的评价，形成系统对该指定用户针对此信息的喜好程度和预测。"
   ]
  },
  {
   "cell_type": "raw",
   "metadata": {},
   "source": [
    "基于用户的协同过滤\n",
    "找到K个相似用户，并且根据相似度的权重加权他们对物品的偏好，得到N个物品。"
   ]
  },
  {
   "cell_type": "raw",
   "metadata": {},
   "source": [
    "基于物品的协同过滤：\n",
    "根据用户对物品的偏好，找到相似物品。\n",
    "从计算的角度看，就是将所有用户对某个物品的偏好作为一个向量来计算物品之间的相似度。\n",
    "根据用户偏好品找到偏好品对应较高的N个相似品推荐。"
   ]
  },
  {
   "cell_type": "markdown",
   "metadata": {},
   "source": [
    "# 总结：核心步骤包括两个部分：相似度计算，协同推荐"
   ]
  },
  {
   "cell_type": "markdown",
   "metadata": {},
   "source": [
    "# end！"
   ]
  }
 ],
 "metadata": {
  "kernelspec": {
   "display_name": "Python 3",
   "language": "python",
   "name": "python3"
  },
  "language_info": {
   "codemirror_mode": {
    "name": "ipython",
    "version": 3
   },
   "file_extension": ".py",
   "mimetype": "text/x-python",
   "name": "python",
   "nbconvert_exporter": "python",
   "pygments_lexer": "ipython3",
   "version": "3.8.5"
  }
 },
 "nbformat": 4,
 "nbformat_minor": 4
}
