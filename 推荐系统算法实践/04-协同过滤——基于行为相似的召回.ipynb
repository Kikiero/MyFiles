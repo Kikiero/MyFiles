{
 "cells": [
  {
   "cell_type": "raw",
   "metadata": {},
   "source": [
    "第4章\t协同过滤——基于行为相似的召回\n",
    "4.1\t协同过滤算法\n",
    "4.1.1\t协同过滤推荐概述\n",
    "4.1.2\t用户评分\n",
    "4.1.3\t相似度计算\n",
    "4.1.4\t推荐计算\n",
    "4.2\t协同过滤推荐算法实现\n",
    "4.2.1\t相似度计算及推荐计算\n",
    "4.2.2\t协同推荐\n",
    "4.2.3\t运行结果"
   ]
  },
  {
   "cell_type": "code",
   "execution_count": null,
   "metadata": {},
   "outputs": [],
   "source": []
  }
 ],
 "metadata": {
  "kernelspec": {
   "display_name": "Python 3",
   "language": "python",
   "name": "python3"
  },
  "language_info": {
   "codemirror_mode": {
    "name": "ipython",
    "version": 3
   },
   "file_extension": ".py",
   "mimetype": "text/x-python",
   "name": "python",
   "nbconvert_exporter": "python",
   "pygments_lexer": "ipython3",
   "version": "3.8.5"
  }
 },
 "nbformat": 4,
 "nbformat_minor": 4
}
