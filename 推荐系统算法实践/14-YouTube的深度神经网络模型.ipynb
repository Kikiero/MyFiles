{
 "cells": [
  {
   "cell_type": "raw",
   "metadata": {},
   "source": [
    "第14章\tYouTube的深度神经网络模型\n",
    "14.1\tYouTube推荐模型\n",
    "14.1.1\t背景介绍\n",
    "14.1.2\t召回模型设计\n",
    "14.1.3\t排序模型设计\n",
    "14.2\tYouTube实例\n",
    "14.3\t运行结果"
   ]
  },
  {
   "cell_type": "code",
   "execution_count": null,
   "metadata": {},
   "outputs": [],
   "source": []
  }
 ],
 "metadata": {
  "kernelspec": {
   "display_name": "Python 3",
   "language": "python",
   "name": "python3"
  },
  "language_info": {
   "codemirror_mode": {
    "name": "ipython",
    "version": 3
   },
   "file_extension": ".py",
   "mimetype": "text/x-python",
   "name": "python",
   "nbconvert_exporter": "python",
   "pygments_lexer": "ipython3",
   "version": "3.8.5"
  }
 },
 "nbformat": 4,
 "nbformat_minor": 4
}
